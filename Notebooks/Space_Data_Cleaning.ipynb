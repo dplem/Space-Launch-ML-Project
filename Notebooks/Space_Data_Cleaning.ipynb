{
 "metadata": {
  "language_info": {
   "codemirror_mode": {
    "name": "ipython",
    "version": 3
   },
   "file_extension": ".py",
   "mimetype": "text/x-python",
   "name": "python",
   "nbconvert_exporter": "python",
   "pygments_lexer": "ipython3",
   "version": "3.9.0-final"
  },
  "orig_nbformat": 2,
  "kernelspec": {
   "name": "python3",
   "display_name": "Python 3.9.0 64-bit",
   "metadata": {
    "interpreter": {
     "hash": "63fd5069d213b44bf678585dea6b12cceca9941eaf7f819626cde1f2670de90d"
    }
   }
  }
 },
 "nbformat": 4,
 "nbformat_minor": 2,
 "cells": [
  {
   "cell_type": "code",
   "execution_count": 9,
   "metadata": {},
   "outputs": [
    {
     "output_type": "stream",
     "name": "stdout",
     "text": [
      "Populating the interactive namespace from numpy and matplotlib\n"
     ]
    }
   ],
   "source": [
    "import pandas as pd\n",
    "import matplotlib.pyplot as plt\n",
    "import numpy as np\n",
    "import scipy.stats as stats\n",
    "import seaborn as sns\n",
    "from matplotlib import rcParams\n",
    "\n",
    "%matplotlib inline \n",
    "%pylab inline"
   ]
  },
  {
   "cell_type": "code",
   "execution_count": 10,
   "metadata": {},
   "outputs": [],
   "source": [
    "global_space_launches = pd.read_csv(r'../Data/Global_Space_Launches.csv')"
   ]
  },
  {
   "cell_type": "code",
   "execution_count": 11,
   "metadata": {},
   "outputs": [
    {
     "output_type": "execute_result",
     "data": {
      "text/plain": [
       "  Company Name                                           Location  \\\n",
       "0       SpaceX         LC-39A, Kennedy Space Center, Florida, USA   \n",
       "1        CASIC  Site 9401 (SLS-2), Jiuquan Satellite Launch Ce...   \n",
       "2       SpaceX                      Pad A, Boca Chica, Texas, USA   \n",
       "3    Roscosmos       Site 200/39, Baikonur Cosmodrome, Kazakhstan   \n",
       "4          ULA           SLC-41, Cape Canaveral AFS, Florida, USA   \n",
       "\n",
       "                                         Detail Status Rocket  Rocket  \\\n",
       "0  Falcon 9 Block 5 | Starlink V1 L9 & BlackSky  StatusActive   50.0    \n",
       "1           Long March 2D | Gaofen-9 04 & Q-SAT  StatusActive  29.75    \n",
       "2            Starship Prototype | 150 Meter Hop  StatusActive     NaN   \n",
       "3  Proton-M/Briz-M | Ekspress-80 & Ekspress-103  StatusActive   65.0    \n",
       "4                    Atlas V 541 | Perseverance  StatusActive  145.0    \n",
       "\n",
       "  Status Mission Country of Launch Companys Country of Origin  \\\n",
       "0        Success               USA                        USA   \n",
       "1        Success             China                      China   \n",
       "2        Success               USA                        USA   \n",
       "3        Success        Kazakhstan                     Russia   \n",
       "4        Success               USA                        USA   \n",
       "\n",
       "  Private or State Run                   DateTime  Year  Month  Day  \\\n",
       "0                    P  2020-08-07 05:12:00+00:00  2020      8    7   \n",
       "1                    S  2020-08-06 04:01:00+00:00  2020      8    6   \n",
       "2                    P  2020-08-04 23:57:00+00:00  2020      8    4   \n",
       "3                    S  2020-07-30 21:25:00+00:00  2020      7   30   \n",
       "4                    P  2020-07-30 11:50:00+00:00  2020      7   30   \n",
       "\n",
       "         Date   Time  \n",
       "0  07/08/2020  05:12  \n",
       "1  06/08/2020  04:01  \n",
       "2  04/08/2020  23:57  \n",
       "3  30/07/2020  21:25  \n",
       "4  30/07/2020  11:50  "
      ],
      "text/html": "<div>\n<style scoped>\n    .dataframe tbody tr th:only-of-type {\n        vertical-align: middle;\n    }\n\n    .dataframe tbody tr th {\n        vertical-align: top;\n    }\n\n    .dataframe thead th {\n        text-align: right;\n    }\n</style>\n<table border=\"1\" class=\"dataframe\">\n  <thead>\n    <tr style=\"text-align: right;\">\n      <th></th>\n      <th>Company Name</th>\n      <th>Location</th>\n      <th>Detail</th>\n      <th>Status Rocket</th>\n      <th>Rocket</th>\n      <th>Status Mission</th>\n      <th>Country of Launch</th>\n      <th>Companys Country of Origin</th>\n      <th>Private or State Run</th>\n      <th>DateTime</th>\n      <th>Year</th>\n      <th>Month</th>\n      <th>Day</th>\n      <th>Date</th>\n      <th>Time</th>\n    </tr>\n  </thead>\n  <tbody>\n    <tr>\n      <th>0</th>\n      <td>SpaceX</td>\n      <td>LC-39A, Kennedy Space Center, Florida, USA</td>\n      <td>Falcon 9 Block 5 | Starlink V1 L9 &amp; BlackSky</td>\n      <td>StatusActive</td>\n      <td>50.0</td>\n      <td>Success</td>\n      <td>USA</td>\n      <td>USA</td>\n      <td>P</td>\n      <td>2020-08-07 05:12:00+00:00</td>\n      <td>2020</td>\n      <td>8</td>\n      <td>7</td>\n      <td>07/08/2020</td>\n      <td>05:12</td>\n    </tr>\n    <tr>\n      <th>1</th>\n      <td>CASIC</td>\n      <td>Site 9401 (SLS-2), Jiuquan Satellite Launch Ce...</td>\n      <td>Long March 2D | Gaofen-9 04 &amp; Q-SAT</td>\n      <td>StatusActive</td>\n      <td>29.75</td>\n      <td>Success</td>\n      <td>China</td>\n      <td>China</td>\n      <td>S</td>\n      <td>2020-08-06 04:01:00+00:00</td>\n      <td>2020</td>\n      <td>8</td>\n      <td>6</td>\n      <td>06/08/2020</td>\n      <td>04:01</td>\n    </tr>\n    <tr>\n      <th>2</th>\n      <td>SpaceX</td>\n      <td>Pad A, Boca Chica, Texas, USA</td>\n      <td>Starship Prototype | 150 Meter Hop</td>\n      <td>StatusActive</td>\n      <td>NaN</td>\n      <td>Success</td>\n      <td>USA</td>\n      <td>USA</td>\n      <td>P</td>\n      <td>2020-08-04 23:57:00+00:00</td>\n      <td>2020</td>\n      <td>8</td>\n      <td>4</td>\n      <td>04/08/2020</td>\n      <td>23:57</td>\n    </tr>\n    <tr>\n      <th>3</th>\n      <td>Roscosmos</td>\n      <td>Site 200/39, Baikonur Cosmodrome, Kazakhstan</td>\n      <td>Proton-M/Briz-M | Ekspress-80 &amp; Ekspress-103</td>\n      <td>StatusActive</td>\n      <td>65.0</td>\n      <td>Success</td>\n      <td>Kazakhstan</td>\n      <td>Russia</td>\n      <td>S</td>\n      <td>2020-07-30 21:25:00+00:00</td>\n      <td>2020</td>\n      <td>7</td>\n      <td>30</td>\n      <td>30/07/2020</td>\n      <td>21:25</td>\n    </tr>\n    <tr>\n      <th>4</th>\n      <td>ULA</td>\n      <td>SLC-41, Cape Canaveral AFS, Florida, USA</td>\n      <td>Atlas V 541 | Perseverance</td>\n      <td>StatusActive</td>\n      <td>145.0</td>\n      <td>Success</td>\n      <td>USA</td>\n      <td>USA</td>\n      <td>P</td>\n      <td>2020-07-30 11:50:00+00:00</td>\n      <td>2020</td>\n      <td>7</td>\n      <td>30</td>\n      <td>30/07/2020</td>\n      <td>11:50</td>\n    </tr>\n  </tbody>\n</table>\n</div>"
     },
     "metadata": {},
     "execution_count": 11
    }
   ],
   "source": [
    "global_space_launches.head()"
   ]
  },
  {
   "cell_type": "code",
   "execution_count": 14,
   "metadata": {},
   "outputs": [
    {
     "output_type": "execute_result",
     "data": {
      "text/plain": [
       "                       Company  SFR Payload (kg)  Launch Cost ($M)  \\\n",
       "0             Arianespace/Avio    9       20,000             170.0   \n",
       "1          Black Sky Aerospace    9          350               0.6   \n",
       "2                  Blue Origin    9       45,000               0.0   \n",
       "3               CNIM Air Space    9        2,700               0.0   \n",
       "4  Mitsubishi Heavy Industries    9       19,000             112.5   \n",
       "\n",
       "  Price ($/kg) Funding ($M)           Launch Class Orbit Altitude Tech Type  \\\n",
       "0        8,500       Public          Medium, Heavy            LEO    Rocket   \n",
       "1        1,714            -                  Small     Suborbital    Rocket   \n",
       "2            0            -  Tourism, Small, Heavy            LEO    Rocket   \n",
       "3            0       Public          Small, Medium     Suborbital   Balloon   \n",
       "4        5,921       Public                 Medium            LEO    Rocket   \n",
       "\n",
       "     Country                HQ Location  \\\n",
       "0      Italy                 Colleferro   \n",
       "1  Australia  Browns Plains, Queensland   \n",
       "2        USA                   Kent, WA   \n",
       "3     France                Ayguesvives   \n",
       "4      Japan               Tokyo, Tokyo   \n",
       "\n",
       "                                         Description  \n",
       "0       Developing the Vega & Ariane launch vehicles  \n",
       "1  Offers a range of sounding rockets, capable of...  \n",
       "2  Lowering the cost of access to space with reus...  \n",
       "3  Balloons that lift anything from a few kilogra...  \n",
       "4  Launch vehicle manufacturer and launch service...  "
      ],
      "text/html": "<div>\n<style scoped>\n    .dataframe tbody tr th:only-of-type {\n        vertical-align: middle;\n    }\n\n    .dataframe tbody tr th {\n        vertical-align: top;\n    }\n\n    .dataframe thead th {\n        text-align: right;\n    }\n</style>\n<table border=\"1\" class=\"dataframe\">\n  <thead>\n    <tr style=\"text-align: right;\">\n      <th></th>\n      <th>Company</th>\n      <th>SFR</th>\n      <th>Payload (kg)</th>\n      <th>Launch Cost ($M)</th>\n      <th>Price ($/kg)</th>\n      <th>Funding ($M)</th>\n      <th>Launch Class</th>\n      <th>Orbit Altitude</th>\n      <th>Tech Type</th>\n      <th>Country</th>\n      <th>HQ Location</th>\n      <th>Description</th>\n    </tr>\n  </thead>\n  <tbody>\n    <tr>\n      <th>0</th>\n      <td>Arianespace/Avio</td>\n      <td>9</td>\n      <td>20,000</td>\n      <td>170.0</td>\n      <td>8,500</td>\n      <td>Public</td>\n      <td>Medium, Heavy</td>\n      <td>LEO</td>\n      <td>Rocket</td>\n      <td>Italy</td>\n      <td>Colleferro</td>\n      <td>Developing the Vega &amp; Ariane launch vehicles</td>\n    </tr>\n    <tr>\n      <th>1</th>\n      <td>Black Sky Aerospace</td>\n      <td>9</td>\n      <td>350</td>\n      <td>0.6</td>\n      <td>1,714</td>\n      <td>-</td>\n      <td>Small</td>\n      <td>Suborbital</td>\n      <td>Rocket</td>\n      <td>Australia</td>\n      <td>Browns Plains, Queensland</td>\n      <td>Offers a range of sounding rockets, capable of...</td>\n    </tr>\n    <tr>\n      <th>2</th>\n      <td>Blue Origin</td>\n      <td>9</td>\n      <td>45,000</td>\n      <td>0.0</td>\n      <td>0</td>\n      <td>-</td>\n      <td>Tourism, Small, Heavy</td>\n      <td>LEO</td>\n      <td>Rocket</td>\n      <td>USA</td>\n      <td>Kent, WA</td>\n      <td>Lowering the cost of access to space with reus...</td>\n    </tr>\n    <tr>\n      <th>3</th>\n      <td>CNIM Air Space</td>\n      <td>9</td>\n      <td>2,700</td>\n      <td>0.0</td>\n      <td>0</td>\n      <td>Public</td>\n      <td>Small, Medium</td>\n      <td>Suborbital</td>\n      <td>Balloon</td>\n      <td>France</td>\n      <td>Ayguesvives</td>\n      <td>Balloons that lift anything from a few kilogra...</td>\n    </tr>\n    <tr>\n      <th>4</th>\n      <td>Mitsubishi Heavy Industries</td>\n      <td>9</td>\n      <td>19,000</td>\n      <td>112.5</td>\n      <td>5,921</td>\n      <td>Public</td>\n      <td>Medium</td>\n      <td>LEO</td>\n      <td>Rocket</td>\n      <td>Japan</td>\n      <td>Tokyo, Tokyo</td>\n      <td>Launch vehicle manufacturer and launch service...</td>\n    </tr>\n  </tbody>\n</table>\n</div>"
     },
     "metadata": {},
     "execution_count": 14
    }
   ],
   "source": [
    "launch_sfr = pd.read_csv(r'../Data/Launch SFR.csv')\n",
    "launch_sfr.head()"
   ]
  },
  {
   "cell_type": "code",
   "execution_count": 15,
   "metadata": {},
   "outputs": [
    {
     "output_type": "execute_result",
     "data": {
      "text/plain": [
       "  Company    Launch Date Launch Time       Launch Site  Temperature (° F)  \\\n",
       "0  SpaceX  24 March 2006       22:30  Marshall Islands               86.0   \n",
       "1  SpaceX  21 March 2007        1:10  Marshall Islands                NaN   \n",
       "2  SpaceX  3 August 2008        3:34  Marshall Islands                NaN   \n",
       "3  SpaceX  3 August 2008        3:34  Marshall Islands                NaN   \n",
       "4  SpaceX  3 August 2008        3:34  Marshall Islands                NaN   \n",
       "\n",
       "   Wind speed (MPH)  Humidity (%) Vehicle Type  Liftoff Thrust (kN)  \\\n",
       "0               9.0          74.0     Falcon 1                  343   \n",
       "1               NaN           NaN     Falcon 1                  343   \n",
       "2               NaN           NaN     Falcon 1                  343   \n",
       "3               NaN           NaN     Falcon 1                  343   \n",
       "4               NaN           NaN     Falcon 1                  343   \n",
       "\n",
       "   Payload to Orbit (kg)  Rocket Height (m)  Fairing Diameter (m)  \\\n",
       "0                    470              22.25                   1.5   \n",
       "1                    470              22.25                   1.5   \n",
       "2                    470              22.25                   1.5   \n",
       "3                    470              22.25                   1.5   \n",
       "4                    470              22.25                   1.5   \n",
       "\n",
       "         Payload Name             Payload Type Payload Mass (kg)  \\\n",
       "0         FalconSAT-2       Research Satellite              19.5   \n",
       "1             DemoSat           Mass simulator               NaN   \n",
       "2         Trailblazer  Communication Satellite               NaN   \n",
       "3  PRESat, NanoSail-D      Research Satellites                 8   \n",
       "4           Explorers            Human Remains               NaN   \n",
       "\n",
       "     Payload Orbit Mission Status                 Failure Reason  \n",
       "0  Low Earth Orbit        Failure      Engine Fire During Launch  \n",
       "1  Low Earth Orbit        Failure  Engine Shutdown During Launch  \n",
       "2  Low Earth Orbit        Failure        Collision During Launch  \n",
       "3  Low Earth Orbit        Failure        Collision During Launch  \n",
       "4  Low Earth Orbit        Failure        Collision During Launch  "
      ],
      "text/html": "<div>\n<style scoped>\n    .dataframe tbody tr th:only-of-type {\n        vertical-align: middle;\n    }\n\n    .dataframe tbody tr th {\n        vertical-align: top;\n    }\n\n    .dataframe thead th {\n        text-align: right;\n    }\n</style>\n<table border=\"1\" class=\"dataframe\">\n  <thead>\n    <tr style=\"text-align: right;\">\n      <th></th>\n      <th>Company</th>\n      <th>Launch Date</th>\n      <th>Launch Time</th>\n      <th>Launch Site</th>\n      <th>Temperature (° F)</th>\n      <th>Wind speed (MPH)</th>\n      <th>Humidity (%)</th>\n      <th>Vehicle Type</th>\n      <th>Liftoff Thrust (kN)</th>\n      <th>Payload to Orbit (kg)</th>\n      <th>Rocket Height (m)</th>\n      <th>Fairing Diameter (m)</th>\n      <th>Payload Name</th>\n      <th>Payload Type</th>\n      <th>Payload Mass (kg)</th>\n      <th>Payload Orbit</th>\n      <th>Mission Status</th>\n      <th>Failure Reason</th>\n    </tr>\n  </thead>\n  <tbody>\n    <tr>\n      <th>0</th>\n      <td>SpaceX</td>\n      <td>24 March 2006</td>\n      <td>22:30</td>\n      <td>Marshall Islands</td>\n      <td>86.0</td>\n      <td>9.0</td>\n      <td>74.0</td>\n      <td>Falcon 1</td>\n      <td>343</td>\n      <td>470</td>\n      <td>22.25</td>\n      <td>1.5</td>\n      <td>FalconSAT-2</td>\n      <td>Research Satellite</td>\n      <td>19.5</td>\n      <td>Low Earth Orbit</td>\n      <td>Failure</td>\n      <td>Engine Fire During Launch</td>\n    </tr>\n    <tr>\n      <th>1</th>\n      <td>SpaceX</td>\n      <td>21 March 2007</td>\n      <td>1:10</td>\n      <td>Marshall Islands</td>\n      <td>NaN</td>\n      <td>NaN</td>\n      <td>NaN</td>\n      <td>Falcon 1</td>\n      <td>343</td>\n      <td>470</td>\n      <td>22.25</td>\n      <td>1.5</td>\n      <td>DemoSat</td>\n      <td>Mass simulator</td>\n      <td>NaN</td>\n      <td>Low Earth Orbit</td>\n      <td>Failure</td>\n      <td>Engine Shutdown During Launch</td>\n    </tr>\n    <tr>\n      <th>2</th>\n      <td>SpaceX</td>\n      <td>3 August 2008</td>\n      <td>3:34</td>\n      <td>Marshall Islands</td>\n      <td>NaN</td>\n      <td>NaN</td>\n      <td>NaN</td>\n      <td>Falcon 1</td>\n      <td>343</td>\n      <td>470</td>\n      <td>22.25</td>\n      <td>1.5</td>\n      <td>Trailblazer</td>\n      <td>Communication Satellite</td>\n      <td>NaN</td>\n      <td>Low Earth Orbit</td>\n      <td>Failure</td>\n      <td>Collision During Launch</td>\n    </tr>\n    <tr>\n      <th>3</th>\n      <td>SpaceX</td>\n      <td>3 August 2008</td>\n      <td>3:34</td>\n      <td>Marshall Islands</td>\n      <td>NaN</td>\n      <td>NaN</td>\n      <td>NaN</td>\n      <td>Falcon 1</td>\n      <td>343</td>\n      <td>470</td>\n      <td>22.25</td>\n      <td>1.5</td>\n      <td>PRESat, NanoSail-D</td>\n      <td>Research Satellites</td>\n      <td>8</td>\n      <td>Low Earth Orbit</td>\n      <td>Failure</td>\n      <td>Collision During Launch</td>\n    </tr>\n    <tr>\n      <th>4</th>\n      <td>SpaceX</td>\n      <td>3 August 2008</td>\n      <td>3:34</td>\n      <td>Marshall Islands</td>\n      <td>NaN</td>\n      <td>NaN</td>\n      <td>NaN</td>\n      <td>Falcon 1</td>\n      <td>343</td>\n      <td>470</td>\n      <td>22.25</td>\n      <td>1.5</td>\n      <td>Explorers</td>\n      <td>Human Remains</td>\n      <td>NaN</td>\n      <td>Low Earth Orbit</td>\n      <td>Failure</td>\n      <td>Collision During Launch</td>\n    </tr>\n  </tbody>\n</table>\n</div>"
     },
     "metadata": {},
     "execution_count": 15
    }
   ],
   "source": [
    "space_missions = pd.read_csv(r'../Data/Space_Missions.csv')\n",
    "space_missions.head()"
   ]
  },
  {
   "cell_type": "code",
   "execution_count": 16,
   "metadata": {},
   "outputs": [
    {
     "output_type": "execute_result",
     "data": {
      "text/plain": [
       "Company Name                  False\n",
       "Location                      False\n",
       "Detail                        False\n",
       "Status Rocket                 False\n",
       " Rocket                        True\n",
       "Status Mission                False\n",
       "Country of Launch             False\n",
       "Companys Country of Origin    False\n",
       "Private or State Run          False\n",
       "DateTime                      False\n",
       "Year                          False\n",
       "Month                         False\n",
       "Day                           False\n",
       "Date                          False\n",
       "Time                          False\n",
       "dtype: bool"
      ]
     },
     "metadata": {},
     "execution_count": 16
    }
   ],
   "source": [
    "global_space_launches.isnull().any()"
   ]
  },
  {
   "cell_type": "code",
   "execution_count": 17,
   "metadata": {},
   "outputs": [
    {
     "output_type": "execute_result",
     "data": {
      "text/plain": [
       "Company Name                  object\n",
       "Location                      object\n",
       "Detail                        object\n",
       "Status Rocket                 object\n",
       " Rocket                       object\n",
       "Status Mission                object\n",
       "Country of Launch             object\n",
       "Companys Country of Origin    object\n",
       "Private or State Run          object\n",
       "DateTime                      object\n",
       "Year                           int64\n",
       "Month                          int64\n",
       "Day                            int64\n",
       "Date                          object\n",
       "Time                          object\n",
       "dtype: object"
      ]
     },
     "metadata": {},
     "execution_count": 17
    }
   ],
   "source": [
    "global_space_launches.dtypes"
   ]
  },
  {
   "cell_type": "code",
   "execution_count": 18,
   "metadata": {},
   "outputs": [
    {
     "output_type": "execute_result",
     "data": {
      "text/plain": [
       "              Year        Month          Day\n",
       "count  4324.000000  4324.000000  4324.000000\n",
       "mean   1987.386679     6.754163    16.438945\n",
       "std      18.072562     3.417027     8.636688\n",
       "min    1957.000000     1.000000     1.000000\n",
       "25%    1972.000000     4.000000     9.000000\n",
       "50%    1984.000000     7.000000    17.000000\n",
       "75%    2002.000000    10.000000    24.000000\n",
       "max    2020.000000    12.000000    31.000000"
      ],
      "text/html": "<div>\n<style scoped>\n    .dataframe tbody tr th:only-of-type {\n        vertical-align: middle;\n    }\n\n    .dataframe tbody tr th {\n        vertical-align: top;\n    }\n\n    .dataframe thead th {\n        text-align: right;\n    }\n</style>\n<table border=\"1\" class=\"dataframe\">\n  <thead>\n    <tr style=\"text-align: right;\">\n      <th></th>\n      <th>Year</th>\n      <th>Month</th>\n      <th>Day</th>\n    </tr>\n  </thead>\n  <tbody>\n    <tr>\n      <th>count</th>\n      <td>4324.000000</td>\n      <td>4324.000000</td>\n      <td>4324.000000</td>\n    </tr>\n    <tr>\n      <th>mean</th>\n      <td>1987.386679</td>\n      <td>6.754163</td>\n      <td>16.438945</td>\n    </tr>\n    <tr>\n      <th>std</th>\n      <td>18.072562</td>\n      <td>3.417027</td>\n      <td>8.636688</td>\n    </tr>\n    <tr>\n      <th>min</th>\n      <td>1957.000000</td>\n      <td>1.000000</td>\n      <td>1.000000</td>\n    </tr>\n    <tr>\n      <th>25%</th>\n      <td>1972.000000</td>\n      <td>4.000000</td>\n      <td>9.000000</td>\n    </tr>\n    <tr>\n      <th>50%</th>\n      <td>1984.000000</td>\n      <td>7.000000</td>\n      <td>17.000000</td>\n    </tr>\n    <tr>\n      <th>75%</th>\n      <td>2002.000000</td>\n      <td>10.000000</td>\n      <td>24.000000</td>\n    </tr>\n    <tr>\n      <th>max</th>\n      <td>2020.000000</td>\n      <td>12.000000</td>\n      <td>31.000000</td>\n    </tr>\n  </tbody>\n</table>\n</div>"
     },
     "metadata": {},
     "execution_count": 18
    }
   ],
   "source": [
    "global_space_launches.describe()"
   ]
  },
  {
   "cell_type": "code",
   "execution_count": null,
   "metadata": {},
   "outputs": [],
   "source": []
  }
 ]
}