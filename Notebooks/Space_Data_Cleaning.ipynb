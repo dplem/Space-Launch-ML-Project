{
 "metadata": {
  "language_info": {
   "codemirror_mode": {
    "name": "ipython",
    "version": 3
   },
   "file_extension": ".py",
   "mimetype": "text/x-python",
   "name": "python",
   "nbconvert_exporter": "python",
   "pygments_lexer": "ipython3",
   "version": "3.9.0-final"
  },
  "orig_nbformat": 2,
  "kernelspec": {
   "name": "python3",
   "display_name": "Python 3.9.0 64-bit",
   "metadata": {
    "interpreter": {
     "hash": "63fd5069d213b44bf678585dea6b12cceca9941eaf7f819626cde1f2670de90d"
    }
   }
  }
 },
 "nbformat": 4,
 "nbformat_minor": 2,
 "cells": [
  {
   "cell_type": "code",
   "execution_count": 10,
   "metadata": {},
   "outputs": [],
   "source": [
    "import pandas as pd"
   ]
  },
  {
   "cell_type": "code",
   "execution_count": 16,
   "metadata": {},
   "outputs": [],
   "source": [
    "space_df = pd.read_csv(r'../Data/Global_Space_Launches.csv')"
   ]
  },
  {
   "cell_type": "code",
   "execution_count": 17,
   "metadata": {},
   "outputs": [
    {
     "output_type": "execute_result",
     "data": {
      "text/plain": [
       "  Company Name                                           Location  \\\n",
       "0       SpaceX         LC-39A, Kennedy Space Center, Florida, USA   \n",
       "1        CASIC  Site 9401 (SLS-2), Jiuquan Satellite Launch Ce...   \n",
       "2       SpaceX                      Pad A, Boca Chica, Texas, USA   \n",
       "3    Roscosmos       Site 200/39, Baikonur Cosmodrome, Kazakhstan   \n",
       "4          ULA           SLC-41, Cape Canaveral AFS, Florida, USA   \n",
       "\n",
       "                                         Detail Status Rocket  Rocket  \\\n",
       "0  Falcon 9 Block 5 | Starlink V1 L9 & BlackSky  StatusActive   50.0    \n",
       "1           Long March 2D | Gaofen-9 04 & Q-SAT  StatusActive  29.75    \n",
       "2            Starship Prototype | 150 Meter Hop  StatusActive     NaN   \n",
       "3  Proton-M/Briz-M | Ekspress-80 & Ekspress-103  StatusActive   65.0    \n",
       "4                    Atlas V 541 | Perseverance  StatusActive  145.0    \n",
       "\n",
       "  Status Mission Country of Launch Companys Country of Origin  \\\n",
       "0        Success               USA                        USA   \n",
       "1        Success             China                      China   \n",
       "2        Success               USA                        USA   \n",
       "3        Success        Kazakhstan                     Russia   \n",
       "4        Success               USA                        USA   \n",
       "\n",
       "  Private or State Run                   DateTime  Year  Month  Day  \\\n",
       "0                    P  2020-08-07 05:12:00+00:00  2020      8    7   \n",
       "1                    S  2020-08-06 04:01:00+00:00  2020      8    6   \n",
       "2                    P  2020-08-04 23:57:00+00:00  2020      8    4   \n",
       "3                    S  2020-07-30 21:25:00+00:00  2020      7   30   \n",
       "4                    P  2020-07-30 11:50:00+00:00  2020      7   30   \n",
       "\n",
       "         Date   Time  \n",
       "0  07/08/2020  05:12  \n",
       "1  06/08/2020  04:01  \n",
       "2  04/08/2020  23:57  \n",
       "3  30/07/2020  21:25  \n",
       "4  30/07/2020  11:50  "
      ],
      "text/html": "<div>\n<style scoped>\n    .dataframe tbody tr th:only-of-type {\n        vertical-align: middle;\n    }\n\n    .dataframe tbody tr th {\n        vertical-align: top;\n    }\n\n    .dataframe thead th {\n        text-align: right;\n    }\n</style>\n<table border=\"1\" class=\"dataframe\">\n  <thead>\n    <tr style=\"text-align: right;\">\n      <th></th>\n      <th>Company Name</th>\n      <th>Location</th>\n      <th>Detail</th>\n      <th>Status Rocket</th>\n      <th>Rocket</th>\n      <th>Status Mission</th>\n      <th>Country of Launch</th>\n      <th>Companys Country of Origin</th>\n      <th>Private or State Run</th>\n      <th>DateTime</th>\n      <th>Year</th>\n      <th>Month</th>\n      <th>Day</th>\n      <th>Date</th>\n      <th>Time</th>\n    </tr>\n  </thead>\n  <tbody>\n    <tr>\n      <th>0</th>\n      <td>SpaceX</td>\n      <td>LC-39A, Kennedy Space Center, Florida, USA</td>\n      <td>Falcon 9 Block 5 | Starlink V1 L9 &amp; BlackSky</td>\n      <td>StatusActive</td>\n      <td>50.0</td>\n      <td>Success</td>\n      <td>USA</td>\n      <td>USA</td>\n      <td>P</td>\n      <td>2020-08-07 05:12:00+00:00</td>\n      <td>2020</td>\n      <td>8</td>\n      <td>7</td>\n      <td>07/08/2020</td>\n      <td>05:12</td>\n    </tr>\n    <tr>\n      <th>1</th>\n      <td>CASIC</td>\n      <td>Site 9401 (SLS-2), Jiuquan Satellite Launch Ce...</td>\n      <td>Long March 2D | Gaofen-9 04 &amp; Q-SAT</td>\n      <td>StatusActive</td>\n      <td>29.75</td>\n      <td>Success</td>\n      <td>China</td>\n      <td>China</td>\n      <td>S</td>\n      <td>2020-08-06 04:01:00+00:00</td>\n      <td>2020</td>\n      <td>8</td>\n      <td>6</td>\n      <td>06/08/2020</td>\n      <td>04:01</td>\n    </tr>\n    <tr>\n      <th>2</th>\n      <td>SpaceX</td>\n      <td>Pad A, Boca Chica, Texas, USA</td>\n      <td>Starship Prototype | 150 Meter Hop</td>\n      <td>StatusActive</td>\n      <td>NaN</td>\n      <td>Success</td>\n      <td>USA</td>\n      <td>USA</td>\n      <td>P</td>\n      <td>2020-08-04 23:57:00+00:00</td>\n      <td>2020</td>\n      <td>8</td>\n      <td>4</td>\n      <td>04/08/2020</td>\n      <td>23:57</td>\n    </tr>\n    <tr>\n      <th>3</th>\n      <td>Roscosmos</td>\n      <td>Site 200/39, Baikonur Cosmodrome, Kazakhstan</td>\n      <td>Proton-M/Briz-M | Ekspress-80 &amp; Ekspress-103</td>\n      <td>StatusActive</td>\n      <td>65.0</td>\n      <td>Success</td>\n      <td>Kazakhstan</td>\n      <td>Russia</td>\n      <td>S</td>\n      <td>2020-07-30 21:25:00+00:00</td>\n      <td>2020</td>\n      <td>7</td>\n      <td>30</td>\n      <td>30/07/2020</td>\n      <td>21:25</td>\n    </tr>\n    <tr>\n      <th>4</th>\n      <td>ULA</td>\n      <td>SLC-41, Cape Canaveral AFS, Florida, USA</td>\n      <td>Atlas V 541 | Perseverance</td>\n      <td>StatusActive</td>\n      <td>145.0</td>\n      <td>Success</td>\n      <td>USA</td>\n      <td>USA</td>\n      <td>P</td>\n      <td>2020-07-30 11:50:00+00:00</td>\n      <td>2020</td>\n      <td>7</td>\n      <td>30</td>\n      <td>30/07/2020</td>\n      <td>11:50</td>\n    </tr>\n  </tbody>\n</table>\n</div>"
     },
     "metadata": {},
     "execution_count": 17
    }
   ],
   "source": [
    "space_df.head()"
   ]
  },
  {
   "cell_type": "code",
   "execution_count": 22,
   "metadata": {},
   "outputs": [
    {
     "output_type": "stream",
     "name": "stdout",
     "text": [
      "<class 'pandas.core.frame.DataFrame'>\nRangeIndex: 4324 entries, 0 to 4323\nData columns (total 15 columns):\n #   Column                      Non-Null Count  Dtype \n---  ------                      --------------  ----- \n 0   Company Name                4324 non-null   object\n 1   Location                    4324 non-null   object\n 2   Detail                      4324 non-null   object\n 3   Status Rocket               4324 non-null   object\n 4    Rocket                     964 non-null    object\n 5   Status Mission              4324 non-null   object\n 6   Country of Launch           4324 non-null   object\n 7   Companys Country of Origin  4324 non-null   object\n 8   Private or State Run        4324 non-null   object\n 9   DateTime                    4324 non-null   object\n 10  Year                        4324 non-null   int64 \n 11  Month                       4324 non-null   int64 \n 12  Day                         4324 non-null   int64 \n 13  Date                        4324 non-null   object\n 14  Time                        4324 non-null   object\ndtypes: int64(3), object(12)\nmemory usage: 506.8+ KB\n"
     ]
    }
   ],
   "source": [
    "space_df.info()"
   ]
  },
  {
   "cell_type": "code",
   "execution_count": 20,
   "metadata": {},
   "outputs": [
    {
     "output_type": "execute_result",
     "data": {
      "text/plain": [
       "<bound method NDFrame.describe of      Company Name                                           Location  \\\n",
       "0          SpaceX         LC-39A, Kennedy Space Center, Florida, USA   \n",
       "1           CASIC  Site 9401 (SLS-2), Jiuquan Satellite Launch Ce...   \n",
       "2          SpaceX                      Pad A, Boca Chica, Texas, USA   \n",
       "3       Roscosmos       Site 200/39, Baikonur Cosmodrome, Kazakhstan   \n",
       "4             ULA           SLC-41, Cape Canaveral AFS, Florida, USA   \n",
       "...           ...                                                ...   \n",
       "4319      US Navy           LC-18A, Cape Canaveral AFS, Florida, USA   \n",
       "4320         AMBA           LC-26A, Cape Canaveral AFS, Florida, USA   \n",
       "4321      US Navy           LC-18A, Cape Canaveral AFS, Florida, USA   \n",
       "4322    RVSN USSR          Site 1/5, Baikonur Cosmodrome, Kazakhstan   \n",
       "4323    RVSN USSR          Site 1/5, Baikonur Cosmodrome, Kazakhstan   \n",
       "\n",
       "                                            Detail  Status Rocket  Rocket  \\\n",
       "0     Falcon 9 Block 5 | Starlink V1 L9 & BlackSky   StatusActive   50.0    \n",
       "1              Long March 2D | Gaofen-9 04 & Q-SAT   StatusActive  29.75    \n",
       "2               Starship Prototype | 150 Meter Hop   StatusActive     NaN   \n",
       "3     Proton-M/Briz-M | Ekspress-80 & Ekspress-103   StatusActive   65.0    \n",
       "4                       Atlas V 541 | Perseverance   StatusActive  145.0    \n",
       "...                                            ...            ...     ...   \n",
       "4319                     Vanguard | Vanguard TV3BU  StatusRetired     NaN   \n",
       "4320                           Juno I | Explorer 1  StatusRetired     NaN   \n",
       "4321                       Vanguard | Vanguard TV3  StatusRetired     NaN   \n",
       "4322                    Sputnik 8K71PS | Sputnik-2  StatusRetired     NaN   \n",
       "4323                    Sputnik 8K71PS | Sputnik-1  StatusRetired     NaN   \n",
       "\n",
       "     Status Mission Country of Launch Companys Country of Origin  \\\n",
       "0           Success               USA                        USA   \n",
       "1           Success             China                      China   \n",
       "2           Success               USA                        USA   \n",
       "3           Success        Kazakhstan                     Russia   \n",
       "4           Success               USA                        USA   \n",
       "...             ...               ...                        ...   \n",
       "4319        Failure               USA                        USA   \n",
       "4320        Success               USA                        USA   \n",
       "4321        Failure               USA                        USA   \n",
       "4322        Success        Kazakhstan                     Russia   \n",
       "4323        Success        Kazakhstan                     Russia   \n",
       "\n",
       "     Private or State Run                   DateTime  Year  Month  Day  \\\n",
       "0                       P  2020-08-07 05:12:00+00:00  2020      8    7   \n",
       "1                       S  2020-08-06 04:01:00+00:00  2020      8    6   \n",
       "2                       P  2020-08-04 23:57:00+00:00  2020      8    4   \n",
       "3                       S  2020-07-30 21:25:00+00:00  2020      7   30   \n",
       "4                       P  2020-07-30 11:50:00+00:00  2020      7   30   \n",
       "...                   ...                        ...   ...    ...  ...   \n",
       "4319                    S  1958-02-05 07:33:00+00:00  1958      2    5   \n",
       "4320                    S  1958-02-01 03:48:00+00:00  1958      2    1   \n",
       "4321                    S  1957-12-06 16:44:00+00:00  1957     12    6   \n",
       "4322                    S  1957-11-03 02:30:00+00:00  1957     11    3   \n",
       "4323                    S  1957-10-04 19:28:00+00:00  1957     10    4   \n",
       "\n",
       "            Date   Time  \n",
       "0     07/08/2020  05:12  \n",
       "1     06/08/2020  04:01  \n",
       "2     04/08/2020  23:57  \n",
       "3     30/07/2020  21:25  \n",
       "4     30/07/2020  11:50  \n",
       "...          ...    ...  \n",
       "4319  05/02/1958  07:33  \n",
       "4320  01/02/1958  03:48  \n",
       "4321  06/12/1957  16:44  \n",
       "4322  03/11/1957  02:30  \n",
       "4323  04/10/1957  19:28  \n",
       "\n",
       "[4324 rows x 15 columns]>"
      ]
     },
     "metadata": {},
     "execution_count": 20
    }
   ],
   "source": [
    "space_df.describe"
   ]
  },
  {
   "cell_type": "code",
   "execution_count": null,
   "metadata": {},
   "outputs": [],
   "source": []
  }
 ]
}